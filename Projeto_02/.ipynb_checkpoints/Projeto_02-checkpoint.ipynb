{
 "cells": [
  {
   "cell_type": "code",
   "execution_count": null,
   "metadata": {},
   "outputs": [],
   "source": [
    "import pandas as pd\n",
    "#import numpy as pd\n",
    "% matplotlib inline\n",
    "#import matplotlib.pyplot as plt\n",
    "\n",
    "labels = ['id', 'sobrevivente', 'classe', 'nome', 'sexo', 'idade', 'qtd_irmao_conjuge',\n",
    "          'qtd_pai_filho', 'tarifa_passageiro', 'bilhete', 'cabine', 'porto_embarque']\n",
    "df = pd.read_csv('titanic-data-6.csv', header=0, index_col='id', names=labels)"
   ]
  },
  {
   "cell_type": "code",
   "execution_count": null,
   "metadata": {},
   "outputs": [],
   "source": [
    "# Verificando quantidade de registros, quantidade de colunas, colunas que possui valores nulos e tipo de dado de cada coluna.\n",
    "df.info()"
   ]
  },
  {
   "cell_type": "code",
   "execution_count": null,
   "metadata": {},
   "outputs": [],
   "source": [
    "# Verificando registros duplicados.\n",
    "sum(df.duplicated())"
   ]
  },
  {
   "cell_type": "code",
   "execution_count": null,
   "metadata": {},
   "outputs": [],
   "source": [
    "# Verificando visualmente alguns registros.\n",
    "df.head()"
   ]
  },
  {
   "cell_type": "code",
   "execution_count": null,
   "metadata": {},
   "outputs": [],
   "source": [
    "# Limpeza de dados.\n",
    "\n",
    "# Substituindo dados para uma melhor leitura. Origem das informações: https://www.kaggle.com/c/titanic/data\n",
    "df['sobrevivente'] = df['sobrevivente'].replace([0, 1], ['não', 'sim'])\n",
    "df['sexo'] = df['sexo'].replace(['male', 'female'], ['homem', 'mulher'])\n",
    "df['porto_embarque'] = df['porto_embarque'].replace(['C', 'Q', 'S'], ['Cherbourg', 'Queenstown', 'Southampton'])\n",
    "\n",
    "# Tratando os valores nulos não numéricos.\n",
    "df[\"cabine\"].fillna(\"não registrado\", inplace = True)\n",
    "df[\"porto_embarque\"].fillna(\"não registrado\", inplace = True)\n",
    "\n",
    "# Preenchendo as idades nulas com a média da idade dos passageiros.\n",
    "df['idade'] = df['idade'].fillna(df['idade'].mean())"
   ]
  },
  {
   "cell_type": "code",
   "execution_count": null,
   "metadata": {},
   "outputs": [],
   "source": [
    "df.head()"
   ]
  },
  {
   "cell_type": "code",
   "execution_count": null,
   "metadata": {},
   "outputs": [],
   "source": [
    "df.describe()"
   ]
  },
  {
   "cell_type": "code",
   "execution_count": null,
   "metadata": {},
   "outputs": [],
   "source": []
  },
  {
   "cell_type": "code",
   "execution_count": null,
   "metadata": {},
   "outputs": [],
   "source": []
  },
  {
   "cell_type": "code",
   "execution_count": null,
   "metadata": {},
   "outputs": [],
   "source": []
  },
  {
   "cell_type": "code",
   "execution_count": null,
   "metadata": {},
   "outputs": [],
   "source": [
    "df['sobrevivente'].hist();"
   ]
  },
  {
   "cell_type": "code",
   "execution_count": null,
   "metadata": {},
   "outputs": [],
   "source": []
  },
  {
   "cell_type": "code",
   "execution_count": null,
   "metadata": {},
   "outputs": [],
   "source": [
    "df.plot(x='sobrevivente', y='idade', kind='scatter');"
   ]
  },
  {
   "cell_type": "code",
   "execution_count": null,
   "metadata": {},
   "outputs": [],
   "source": []
  },
  {
   "cell_type": "code",
   "execution_count": null,
   "metadata": {},
   "outputs": [],
   "source": []
  }
 ],
 "metadata": {
  "kernelspec": {
   "display_name": "Python 3",
   "language": "python",
   "name": "python3"
  },
  "language_info": {
   "codemirror_mode": {
    "name": "ipython",
    "version": 3
   },
   "file_extension": ".py",
   "mimetype": "text/x-python",
   "name": "python",
   "nbconvert_exporter": "python",
   "pygments_lexer": "ipython3",
   "version": "3.7.0"
  }
 },
 "nbformat": 4,
 "nbformat_minor": 2
}
